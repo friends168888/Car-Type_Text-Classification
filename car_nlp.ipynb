{
  "nbformat": 4,
  "nbformat_minor": 0,
  "metadata": {
    "colab": {
      "name": "car_nlp.ipynb",
      "provenance": [],
      "mount_file_id": "18fPR9ieN3il8af7Y9Q6EMFT79D1QXaIG",
      "authorship_tag": "ABX9TyMvJXx+WErNxuiMWlEs4QcT",
      "include_colab_link": true
    },
    "kernelspec": {
      "name": "python3",
      "display_name": "Python 3"
    },
    "accelerator": "GPU"
  },
  "cells": [
    {
      "cell_type": "markdown",
      "metadata": {
        "id": "view-in-github",
        "colab_type": "text"
      },
      "source": [
        "<a href=\"https://colab.research.google.com/github/friends168888/car_type_text_lassification/blob/master/car_nlp.ipynb\" target=\"_parent\"><img src=\"https://colab.research.google.com/assets/colab-badge.svg\" alt=\"Open In Colab\"/></a>"
      ]
    },
    {
      "cell_type": "code",
      "metadata": {
        "id": "JbcYUNW6P8mh",
        "colab_type": "code",
        "colab": {
          "base_uri": "https://localhost:8080/",
          "height": 502
        },
        "outputId": "37743081-f265-44d9-cd77-4f26ef7c8758"
      },
      "source": [
        "import pandas as pd\n",
        "final_df = pd.read_csv('fianl_df.csv')\n",
        "final_df\n"
      ],
      "execution_count": null,
      "outputs": [
        {
          "output_type": "execute_result",
          "data": {
            "text/html": [
              "<div>\n",
              "<style scoped>\n",
              "    .dataframe tbody tr th:only-of-type {\n",
              "        vertical-align: middle;\n",
              "    }\n",
              "\n",
              "    .dataframe tbody tr th {\n",
              "        vertical-align: top;\n",
              "    }\n",
              "\n",
              "    .dataframe thead th {\n",
              "        text-align: right;\n",
              "    }\n",
              "</style>\n",
              "<table border=\"1\" class=\"dataframe\">\n",
              "  <thead>\n",
              "    <tr style=\"text-align: right;\">\n",
              "      <th></th>\n",
              "      <th>Unnamed: 0</th>\n",
              "      <th>content</th>\n",
              "      <th>type</th>\n",
              "      <th>Unnamed: 0.1</th>\n",
              "    </tr>\n",
              "  </thead>\n",
              "  <tbody>\n",
              "    <tr>\n",
              "      <th>0</th>\n",
              "      <td>102633</td>\n",
              "      <td>Livina 1.8 原價 67.9 萬全 69 辦到 好談 下個 漲價 盡快 決定 規格 ...</td>\n",
              "      <td>Nissan_livina</td>\n",
              "      <td>3979.0</td>\n",
              "    </tr>\n",
              "    <tr>\n",
              "      <th>1</th>\n",
              "      <td>52564</td>\n",
              "      <td>中部 10 19 Civic 1.8 VTI 車價 749000 空車 價折 63000 領...</td>\n",
              "      <td>Honda_civic</td>\n",
              "      <td>7886.0</td>\n",
              "    </tr>\n",
              "    <tr>\n",
              "      <th>2</th>\n",
              "      <td>110624</td>\n",
              "      <td>舊款 TIIDA 5D1.8 領到 車後 方向盤 左邊 音樂 快速 反應 原廠 寄來 更換 ...</td>\n",
              "      <td>Nissan_tiida</td>\n",
              "      <td>11970.0</td>\n",
              "    </tr>\n",
              "    <tr>\n",
              "      <th>3</th>\n",
              "      <td>62630</td>\n",
              "      <td>終於 訂車 CRV2.4 2010 Honda CR V2.4 VTi 乙式 竊盜 10% ...</td>\n",
              "      <td>Honda_crv</td>\n",
              "      <td>17952.0</td>\n",
              "    </tr>\n",
              "    <tr>\n",
              "      <th>4</th>\n",
              "      <td>100814</td>\n",
              "      <td>被動 安全性 Nissan 各國 國產車 台灣 Nissan 非洲 Nissan 艾力 發揮...</td>\n",
              "      <td>Nissan_livina</td>\n",
              "      <td>2160.0</td>\n",
              "    </tr>\n",
              "    <tr>\n",
              "      <th>...</th>\n",
              "      <td>...</td>\n",
              "      <td>...</td>\n",
              "      <td>...</td>\n",
              "      <td>...</td>\n",
              "    </tr>\n",
              "    <tr>\n",
              "      <th>163284</th>\n",
              "      <td>93009</td>\n",
              "      <td>桃園 南崁 奉化 LANCER 嗆聲哥 車停 馬路 中間 總統 偉大 臨停 居然 馬路 中間...</td>\n",
              "      <td>Mitsubishi_lancer</td>\n",
              "      <td>6697.0</td>\n",
              "    </tr>\n",
              "    <tr>\n",
              "      <th>163285</th>\n",
              "      <td>13739</td>\n",
              "      <td>新車 牽來 鍍膜 先進 X3 後天 先進 馬上 鍍膜 美容 介紹 哪一家 我住 台北 士林區...</td>\n",
              "      <td>BMW_x3</td>\n",
              "      <td>6158.0</td>\n",
              "    </tr>\n",
              "    <tr>\n",
              "      <th>163286</th>\n",
              "      <td>28075</td>\n",
              "      <td>05 05 2013 ALL NEW FOCUS 24 小時 免費 回家 台北 直駛 某日 ...</td>\n",
              "      <td>Ford_focus</td>\n",
              "      <td>12807.0</td>\n",
              "    </tr>\n",
              "    <tr>\n",
              "      <th>163287</th>\n",
              "      <td>51602</td>\n",
              "      <td>女王 新車 CIVIC8 洗腦 說服 終於 完成 喜歡 照顧 車的 臨時 第一次 貼圖 多多...</td>\n",
              "      <td>Honda_civic</td>\n",
              "      <td>6924.0</td>\n",
              "    </tr>\n",
              "    <tr>\n",
              "      <th>163288</th>\n",
              "      <td>76669</td>\n",
              "      <td>U6 訂車 U6 18 模型車 回答 介紹 客戶 成交 要用 暗示 好可愛 模型車 小車 樣...</td>\n",
              "      <td>Luxgen_u6</td>\n",
              "      <td>3739.0</td>\n",
              "    </tr>\n",
              "  </tbody>\n",
              "</table>\n",
              "<p>163289 rows × 4 columns</p>\n",
              "</div>"
            ],
            "text/plain": [
              "        Unnamed: 0  ... Unnamed: 0.1\n",
              "0           102633  ...       3979.0\n",
              "1            52564  ...       7886.0\n",
              "2           110624  ...      11970.0\n",
              "3            62630  ...      17952.0\n",
              "4           100814  ...       2160.0\n",
              "...            ...  ...          ...\n",
              "163284       93009  ...       6697.0\n",
              "163285       13739  ...       6158.0\n",
              "163286       28075  ...      12807.0\n",
              "163287       51602  ...       6924.0\n",
              "163288       76669  ...       3739.0\n",
              "\n",
              "[163289 rows x 4 columns]"
            ]
          },
          "metadata": {
            "tags": []
          },
          "execution_count": 11
        }
      ]
    },
    {
      "cell_type": "code",
      "metadata": {
        "id": "zefosK5QejOd",
        "colab_type": "code",
        "colab": {
          "base_uri": "https://localhost:8080/",
          "height": 450
        },
        "outputId": "577022a4-e692-4ee8-c512-f7eeff471f47"
      },
      "source": [
        "from sklearn.utils import shuffle\n",
        "final_df = shuffle(final_df)\n",
        "final_df"
      ],
      "execution_count": null,
      "outputs": [
        {
          "output_type": "execute_result",
          "data": {
            "text/html": [
              "<div>\n",
              "<style scoped>\n",
              "    .dataframe tbody tr th:only-of-type {\n",
              "        vertical-align: middle;\n",
              "    }\n",
              "\n",
              "    .dataframe tbody tr th {\n",
              "        vertical-align: top;\n",
              "    }\n",
              "\n",
              "    .dataframe thead th {\n",
              "        text-align: right;\n",
              "    }\n",
              "</style>\n",
              "<table border=\"1\" class=\"dataframe\">\n",
              "  <thead>\n",
              "    <tr style=\"text-align: right;\">\n",
              "      <th></th>\n",
              "      <th>Unnamed: 0</th>\n",
              "      <th>content</th>\n",
              "      <th>type</th>\n",
              "      <th>Unnamed: 0.1</th>\n",
              "    </tr>\n",
              "  </thead>\n",
              "  <tbody>\n",
              "    <tr>\n",
              "      <th>36150</th>\n",
              "      <td>65557</td>\n",
              "      <td>Fit 啟動 秒數 變長 發動 Fit 處裡過 類似 相關 說明 1.2010 出廠 已過 ...</td>\n",
              "      <td>Honda_fit</td>\n",
              "      <td>20879.0</td>\n",
              "    </tr>\n",
              "    <tr>\n",
              "      <th>71662</th>\n",
              "      <td>150013</td>\n",
              "      <td>2010 Golf 斜坡 倒退 解決 辦法 2010 Golf 斜坡 倒退 解決 辦法 手自...</td>\n",
              "      <td>VK_golf</td>\n",
              "      <td>3753.0</td>\n",
              "    </tr>\n",
              "    <tr>\n",
              "      <th>18978</th>\n",
              "      <td>4009</td>\n",
              "      <td>意見 AUDI A6 2.0T FS IS edan 開價 242 提到 特仕款 興趣 再談...</td>\n",
              "      <td>Audi_a6</td>\n",
              "      <td>4009.0</td>\n",
              "    </tr>\n",
              "    <tr>\n",
              "      <th>19458</th>\n",
              "      <td>156581</td>\n",
              "      <td>s60 柴油 冷車 室內 引擎聲 大聲 日產車 cefiro 購買 2010s60d5 引擎...</td>\n",
              "      <td>Volvo_s60</td>\n",
              "      <td>740.0</td>\n",
              "    </tr>\n",
              "    <tr>\n",
              "      <th>160309</th>\n",
              "      <td>40050</td>\n",
              "      <td>new mondeo 汽油版 怠速 異音 紅綠燈 D檔 怠速 聲音 轟轟 排到 引擎 老化 ...</td>\n",
              "      <td>Ford_mondeo</td>\n",
              "      <td>24782.0</td>\n",
              "    </tr>\n",
              "    <tr>\n",
              "      <th>...</th>\n",
              "      <td>...</td>\n",
              "      <td>...</td>\n",
              "      <td>...</td>\n",
              "      <td>...</td>\n",
              "    </tr>\n",
              "    <tr>\n",
              "      <th>17033</th>\n",
              "      <td>113444</td>\n",
              "      <td>南部 定價 要加 這兩天 trail 經典款 南部 價是 90.5 月底 下訂 空車 南部 ...</td>\n",
              "      <td>Nissan_x-trail</td>\n",
              "      <td>14790.0</td>\n",
              "    </tr>\n",
              "    <tr>\n",
              "      <th>138850</th>\n",
              "      <td>58229</td>\n",
              "      <td>CRV 會不會 沒車 可交 11 初訂 GX 過了 幾天 打給 沒車 問我 要不要 SX 辦...</td>\n",
              "      <td>Honda_crv</td>\n",
              "      <td>13551.0</td>\n",
              "    </tr>\n",
              "    <tr>\n",
              "      <th>34146</th>\n",
              "      <td>42126</td>\n",
              "      <td>福特六和 客服 電話 功用 mondeo tdci 事件 撥打 福特六和 0800 032 ...</td>\n",
              "      <td>Ford_mondeo</td>\n",
              "      <td>26858.0</td>\n",
              "    </tr>\n",
              "    <tr>\n",
              "      <th>9415</th>\n",
              "      <td>100804</td>\n",
              "      <td>今日 下午 中壢 大江 競標 活動 感想 桃園 中壢 大江 購物 中心 舉辦 競標 活動 最...</td>\n",
              "      <td>Nissan_livina</td>\n",
              "      <td>2150.0</td>\n",
              "    </tr>\n",
              "    <tr>\n",
              "      <th>128934</th>\n",
              "      <td>139142</td>\n",
              "      <td>VIOS 手上 比來 喜歡 考慮到 落在 VIOS 位置 VIOS 進去 剛剛好 條件 一年...</td>\n",
              "      <td>Toyota_vios</td>\n",
              "      <td>19231.0</td>\n",
              "    </tr>\n",
              "  </tbody>\n",
              "</table>\n",
              "<p>163289 rows × 4 columns</p>\n",
              "</div>"
            ],
            "text/plain": [
              "        Unnamed: 0  ... Unnamed: 0.1\n",
              "36150        65557  ...      20879.0\n",
              "71662       150013  ...       3753.0\n",
              "18978         4009  ...       4009.0\n",
              "19458       156581  ...        740.0\n",
              "160309       40050  ...      24782.0\n",
              "...            ...  ...          ...\n",
              "17033       113444  ...      14790.0\n",
              "138850       58229  ...      13551.0\n",
              "34146        42126  ...      26858.0\n",
              "9415        100804  ...       2150.0\n",
              "128934      139142  ...      19231.0\n",
              "\n",
              "[163289 rows x 4 columns]"
            ]
          },
          "metadata": {
            "tags": []
          },
          "execution_count": 12
        }
      ]
    },
    {
      "cell_type": "code",
      "metadata": {
        "id": "JP-xpXmQem13",
        "colab_type": "code",
        "colab": {
          "base_uri": "https://localhost:8080/",
          "height": 1000
        },
        "outputId": "5c44421f-1da4-497c-caa1-5116425ff69f"
      },
      "source": [
        "final_df.type.value_counts()"
      ],
      "execution_count": null,
      "outputs": [
        {
          "output_type": "execute_result",
          "data": {
            "text/plain": [
              "Ford_focus              13280\n",
              "Toyota_altis            10817\n",
              "Honda_civic              8147\n",
              "Honda_crv                7951\n",
              "VK_golf                  5795\n",
              "Toyota_camry             4716\n",
              "Toyota_rav4              4551\n",
              "Nissan_livina            4422\n",
              "Ford_mondeo              4362\n",
              "Mitsubishi_lancer        4300\n",
              "Ford_fiesta              4246\n",
              "Honda_fit                4223\n",
              "Ford_kuga                4157\n",
              "Mazda_mazda3             4001\n",
              "Nissan_tiida             3692\n",
              "Mitsubishi_fortis        3552\n",
              "Mitsubishi_outlander     3100\n",
              "Honda_accord             2999\n",
              "Volvo_s60                2655\n",
              "Toyota_yaris             2613\n",
              "Luxgen_u6                2573\n",
              "Nissan_sentra            2482\n",
              "Volvo_xc60               2331\n",
              "Subaru_forester          2253\n",
              "Hyundai_elantra          2176\n",
              "Ford_escape              2120\n",
              "BMW_320                  2075\n",
              "BMW_520                  2058\n",
              "Toyota_vios              2056\n",
              "VK_tiguan                2038\n",
              "Audi_a4                  1994\n",
              "Nissan_teana             1940\n",
              "Mazda_cx-5               1798\n",
              "Subaru_legacy            1789\n",
              "VK_passat                1748\n",
              "Hyundai_ix35             1728\n",
              "Toyota_prius             1596\n",
              "Luxgen_s5                1465\n",
              "BMW_x5                   1413\n",
              "Volvo_v60                1409\n",
              "Mitsubishi_colt plus     1390\n",
              "Mazda_mazda6             1316\n",
              "Nissan_x-trail           1311\n",
              "Peugeot_308              1262\n",
              "Ford_tierra              1245\n",
              "Audi_a3                  1233\n",
              "Mazda_mazda5             1225\n",
              "Benz_c200                1150\n",
              "Audi_tt                  1137\n",
              "BMW_x3                   1078\n",
              "BMW_m3                   1063\n",
              "Audi_a6                  1055\n",
              "Nissan_march             1054\n",
              "Volvo_v50                1053\n",
              "Subaru_impreza           1052\n",
              "Honda_city               1028\n",
              "Benz_c300                1012\n",
              "Luxgen_s3                1004\n",
              "Name: type, dtype: int64"
            ]
          },
          "metadata": {
            "tags": []
          },
          "execution_count": 13
        }
      ]
    },
    {
      "cell_type": "code",
      "metadata": {
        "id": "f24UfhmxjNYP",
        "colab_type": "code",
        "colab": {}
      },
      "source": [
        "corpus = final_df['content'].tolist()\n",
        "a = []\n",
        "for x in corpus:\n",
        "    a.append(x.split(' '))"
      ],
      "execution_count": null,
      "outputs": []
    },
    {
      "cell_type": "code",
      "metadata": {
        "id": "gXxwqX45jnCk",
        "colab_type": "code",
        "colab": {}
      },
      "source": [
        "Y = final_df['type'].tolist()"
      ],
      "execution_count": null,
      "outputs": []
    },
    {
      "cell_type": "code",
      "metadata": {
        "id": "5GlGoaGAjvqQ",
        "colab_type": "code",
        "colab": {}
      },
      "source": [
        "from sklearn.model_selection import train_test_split\n",
        "# splitting data into training set and test set. If random_state is set to an integer, the split datasets are fixed.\n",
        "X_train, X_test, Y_train, Y_test = train_test_split(a, Y, test_size=0.2, random_state=42)"
      ],
      "execution_count": null,
      "outputs": []
    },
    {
      "cell_type": "code",
      "metadata": {
        "id": "bumVojK4j9Ju",
        "colab_type": "code",
        "colab": {
          "base_uri": "https://localhost:8080/",
          "height": 800
        },
        "outputId": "f974ca79-c7f1-46d4-d501-df756014e71d"
      },
      "source": [
        "import kashgari\n",
        "from kashgari.tasks.classification import BiLSTM_Model\n",
        "from tensorflow.keras.callbacks import TensorBoard\n",
        "kashgari.config.use_cudnn_cell = True\n",
        "import logging\n",
        "logging.basicConfig(level='DEBUG')\n",
        "\n",
        "tf_board = TensorBoard(log_dir='tf_dir/BiLSTM_Model',\n",
        "                       histogram_freq=5, \n",
        "                       update_freq='batch')\n",
        "\n",
        "model = BiLSTM_Model()\n",
        "model.fit(X_train, Y_train,  X_test,Y_test,epochs=5, callbacks=[tf_board])"
      ],
      "execution_count": null,
      "outputs": [
        {
          "output_type": "stream",
          "text": [
            "Preparing text vocab dict: 100%|██████████| 130631/130631 [00:21<00:00, 6098.31it/s]\n",
            "Preparing text vocab dict: 100%|██████████| 32658/32658 [00:05<00:00, 5910.72it/s]\n",
            "2020-09-11 11:55:42,089 [DEBUG] kashgari - --- Build vocab dict finished, Total: 402480 ---\n",
            "2020-09-11 11:55:42,090 [DEBUG] kashgari - Top-10: ['[PAD]', '[UNK]', '[CLS]', '[SEP]', '原廠', '台灣', '引擎', '空間', '安全', '價格']\n",
            "Preparing classification label vocab dict: 100%|██████████| 130631/130631 [00:00<00:00, 1164424.82it/s]\n",
            "Preparing classification label vocab dict: 100%|██████████| 32658/32658 [00:00<00:00, 1092699.89it/s]\n",
            "Calculating sequence length: 100%|██████████| 130631/130631 [00:00<00:00, 1140808.00it/s]\n",
            "Calculating sequence length: 100%|██████████| 32658/32658 [00:00<00:00, 1230816.61it/s]\n",
            "2020-09-11 11:55:43,211 [DEBUG] kashgari - Calculated sequence length = 1668\n",
            "2020-09-11 11:55:45,109 [DEBUG] kashgari - Model: \"functional_3\"\n",
            "_________________________________________________________________\n",
            "Layer (type)                 Output Shape              Param #   \n",
            "=================================================================\n",
            "input (InputLayer)           [(None, None)]            0         \n",
            "_________________________________________________________________\n",
            "layer_embedding (Embedding)  (None, None, 100)         40248000  \n",
            "_________________________________________________________________\n",
            "bidirectional (Bidirectional (None, 256)               234496    \n",
            "_________________________________________________________________\n",
            "dense (Dense)                (None, 58)                14906     \n",
            "_________________________________________________________________\n",
            "activation (Activation)      (None, 58)                0         \n",
            "=================================================================\n",
            "Total params: 40,497,402\n",
            "Trainable params: 40,497,402\n",
            "Non-trainable params: 0\n",
            "_________________________________________________________________\n"
          ],
          "name": "stderr"
        },
        {
          "output_type": "stream",
          "text": [
            "Epoch 1/5\n",
            "   1/2041 [..............................] - ETA: 1s - loss: 4.0616 - accuracy: 0.0000e+00WARNING:tensorflow:From /usr/local/lib/python3.6/dist-packages/tensorflow/python/ops/summary_ops_v2.py:1277: stop (from tensorflow.python.eager.profiler) is deprecated and will be removed after 2020-07-01.\n",
            "Instructions for updating:\n",
            "use `tf.profiler.experimental.stop` instead.\n"
          ],
          "name": "stdout"
        },
        {
          "output_type": "stream",
          "text": [
            "WARNING:tensorflow:From /usr/local/lib/python3.6/dist-packages/tensorflow/python/ops/summary_ops_v2.py:1277: stop (from tensorflow.python.eager.profiler) is deprecated and will be removed after 2020-07-01.\n",
            "Instructions for updating:\n",
            "use `tf.profiler.experimental.stop` instead.\n"
          ],
          "name": "stderr"
        },
        {
          "output_type": "stream",
          "text": [
            "2041/2041 [==============================] - 2205s 1s/step - loss: 0.9532 - accuracy: 0.7482 - val_loss: 0.5449 - val_accuracy: 0.8400\n",
            "Epoch 2/5\n",
            "2041/2041 [==============================] - 2181s 1s/step - loss: 0.3927 - accuracy: 0.8701 - val_loss: 0.5324 - val_accuracy: 0.8354\n",
            "Epoch 3/5\n",
            "2041/2041 [==============================] - 2168s 1s/step - loss: 0.2913 - accuracy: 0.8904 - val_loss: 0.5846 - val_accuracy: 0.8286\n",
            "Epoch 4/5\n",
            "2041/2041 [==============================] - 2194s 1s/step - loss: 0.2342 - accuracy: 0.9038 - val_loss: 0.6346 - val_accuracy: 0.8178\n",
            "Epoch 5/5\n",
            "2041/2041 [==============================] - 2196s 1s/step - loss: 0.1928 - accuracy: 0.9188 - val_loss: 0.7071 - val_accuracy: 0.8135\n"
          ],
          "name": "stdout"
        },
        {
          "output_type": "execute_result",
          "data": {
            "text/plain": [
              "<tensorflow.python.keras.callbacks.History at 0x7f344ab19b70>"
            ]
          },
          "metadata": {
            "tags": []
          },
          "execution_count": 17
        }
      ]
    },
    {
      "cell_type": "code",
      "metadata": {
        "id": "USOUC3Dr8EIH",
        "colab_type": "code",
        "colab": {
          "base_uri": "https://localhost:8080/",
          "height": 53
        },
        "outputId": "a593f402-302c-4b6b-84c1-30dbda74ad24"
      },
      "source": [
        "model.save('BiLSTM_Model')"
      ],
      "execution_count": null,
      "outputs": [
        {
          "output_type": "stream",
          "text": [
            "2020-09-11 14:58:26,810 [INFO] kashgari - model saved to /content/BiLSTM_Model\n"
          ],
          "name": "stderr"
        },
        {
          "output_type": "execute_result",
          "data": {
            "application/vnd.google.colaboratory.intrinsic+json": {
              "type": "string"
            },
            "text/plain": [
              "'/content/BiLSTM_Model'"
            ]
          },
          "metadata": {
            "tags": []
          },
          "execution_count": 18
        }
      ]
    },
    {
      "cell_type": "code",
      "metadata": {
        "id": "819MfUYI9orm",
        "colab_type": "code",
        "colab": {
          "base_uri": "https://localhost:8080/",
          "height": 274
        },
        "outputId": "4100fa82-4e53-4074-9f21-52f3c0b563b6"
      },
      "source": [
        "import random\n",
        "import kashgari\n",
        "# 加载模型\n",
        "loaded_model = kashgari.utils.load_model('BiLSTM_Model')"
      ],
      "execution_count": null,
      "outputs": [
        {
          "output_type": "stream",
          "text": [
            "/usr/local/lib/python3.6/dist-packages/ipykernel_launcher.py:4: DeprecationWarning: The 'load_model' function is deprecated, use 'XX_Model.load_model' instead\n",
            "  after removing the cwd from sys.path.\n"
          ],
          "name": "stderr"
        },
        {
          "output_type": "stream",
          "text": [
            "{\"class_name\": \"Functional\", \"config\": {\"name\": \"functional_3\", \"layers\": [{\"class_name\": \"InputLayer\", \"config\": {\"batch_input_shape\": [null, null], \"dtype\": \"float32\", \"sparse\": false, \"ragged\": false, \"name\": \"input\"}, \"name\": \"input\", \"inbound_nodes\": []}, {\"class_name\": \"Embedding\", \"config\": {\"name\": \"layer_embedding\", \"trainable\": true, \"batch_input_shape\": [null, null], \"dtype\": \"float32\", \"input_dim\": 382864, \"output_dim\": 100, \"embeddings_initializer\": {\"class_name\": \"RandomUniform\", \"config\": {\"minval\": -0.05, \"maxval\": 0.05, \"seed\": null}}, \"embeddings_regularizer\": null, \"activity_regularizer\": null, \"embeddings_constraint\": null, \"mask_zero\": true, \"input_length\": null}, \"name\": \"layer_embedding\", \"inbound_nodes\": [[[\"input\", 0, 0, {}]]]}, {\"class_name\": \"Bidirectional\", \"config\": {\"name\": \"bidirectional\", \"trainable\": true, \"dtype\": \"float32\", \"layer\": {\"class_name\": \"LSTM\", \"config\": {\"name\": \"lstm\", \"trainable\": true, \"dtype\": \"float32\", \"return_sequences\": false, \"return_state\": false, \"go_backwards\": false, \"stateful\": false, \"unroll\": false, \"time_major\": false, \"units\": 128, \"activation\": \"tanh\", \"recurrent_activation\": \"sigmoid\", \"use_bias\": true, \"kernel_initializer\": {\"class_name\": \"GlorotUniform\", \"config\": {\"seed\": null}}, \"recurrent_initializer\": {\"class_name\": \"Orthogonal\", \"config\": {\"gain\": 1.0, \"seed\": null}}, \"bias_initializer\": {\"class_name\": \"Zeros\", \"config\": {}}, \"unit_forget_bias\": true, \"kernel_regularizer\": null, \"recurrent_regularizer\": null, \"bias_regularizer\": null, \"activity_regularizer\": null, \"kernel_constraint\": null, \"recurrent_constraint\": null, \"bias_constraint\": null, \"dropout\": 0.0, \"recurrent_dropout\": 0.0, \"implementation\": 2}}, \"merge_mode\": \"concat\"}, \"name\": \"bidirectional\", \"inbound_nodes\": [[[\"layer_embedding\", 0, 0, {}]]]}, {\"class_name\": \"Dense\", \"config\": {\"name\": \"dense\", \"trainable\": true, \"dtype\": \"float32\", \"units\": 59, \"activation\": \"linear\", \"use_bias\": true, \"kernel_initializer\": {\"class_name\": \"GlorotUniform\", \"config\": {\"seed\": null}}, \"bias_initializer\": {\"class_name\": \"Zeros\", \"config\": {}}, \"kernel_regularizer\": null, \"bias_regularizer\": null, \"activity_regularizer\": null, \"kernel_constraint\": null, \"bias_constraint\": null}, \"name\": \"dense\", \"inbound_nodes\": [[[\"bidirectional\", 0, 0, {}]]]}, {\"class_name\": \"Activation\", \"config\": {\"name\": \"activation\", \"trainable\": true, \"dtype\": \"float32\", \"activation\": \"softmax\"}, \"name\": \"activation\", \"inbound_nodes\": [[[\"dense\", 0, 0, {}]]]}], \"input_layers\": [[\"input\", 0, 0]], \"output_layers\": [[\"activation\", 0, 0]]}, \"keras_version\": \"2.4.0\", \"backend\": \"tensorflow\"}\n"
          ],
          "name": "stdout"
        },
        {
          "output_type": "error",
          "ename": "NameError",
          "evalue": "ignored",
          "traceback": [
            "\u001b[0;31m---------------------------------------------------------------------------\u001b[0m",
            "\u001b[0;31mNameError\u001b[0m                                 Traceback (most recent call last)",
            "\u001b[0;32m<ipython-input-3-1ce33d2aabf0>\u001b[0m in \u001b[0;36m<module>\u001b[0;34m()\u001b[0m\n\u001b[1;32m      3\u001b[0m \u001b[0;31m# 加载模型\u001b[0m\u001b[0;34m\u001b[0m\u001b[0;34m\u001b[0m\u001b[0;34m\u001b[0m\u001b[0m\n\u001b[1;32m      4\u001b[0m \u001b[0mloaded_model\u001b[0m \u001b[0;34m=\u001b[0m \u001b[0mkashgari\u001b[0m\u001b[0;34m.\u001b[0m\u001b[0mutils\u001b[0m\u001b[0;34m.\u001b[0m\u001b[0mload_model\u001b[0m\u001b[0;34m(\u001b[0m\u001b[0;34m'BiLSTM_Model'\u001b[0m\u001b[0;34m)\u001b[0m\u001b[0;34m\u001b[0m\u001b[0;34m\u001b[0m\u001b[0m\n\u001b[0;32m----> 5\u001b[0;31m \u001b[0mloaded_model\u001b[0m\u001b[0;34m.\u001b[0m\u001b[0mpredict\u001b[0m\u001b[0;34m(\u001b[0m\u001b[0mrandom\u001b[0m\u001b[0;34m.\u001b[0m\u001b[0msample\u001b[0m\u001b[0;34m(\u001b[0m\u001b[0mX_train\u001b[0m\u001b[0;34m,\u001b[0m \u001b[0;36m10\u001b[0m\u001b[0;34m)\u001b[0m\u001b[0;34m)\u001b[0m\u001b[0;34m\u001b[0m\u001b[0;34m\u001b[0m\u001b[0m\n\u001b[0m",
            "\u001b[0;31mNameError\u001b[0m: name 'X_train' is not defined"
          ]
        }
      ]
    },
    {
      "cell_type": "code",
      "metadata": {
        "id": "5rHxamL_8RWq",
        "colab_type": "code",
        "colab": {}
      },
      "source": [
        "import jieba.analyse\n",
        "import jieba\n",
        "input_word = '''\n",
        "大家假日午安\n",
        "上次問過但最試試了很多對自己需求稍微變更\n",
        "想在請問一下大家x\n",
        "\n",
        "自己條件\n",
        "1.因為我自己187,不想買太小的,但因為只有兩個人需求,也不想買大房車\n",
        "  個人覺得可能就抓車長460-470 左右應該剛好\n",
        "2.喜歡四門,不愛休旅,掀背車型\n",
        "3.希望能有ACC,360環景\n",
        "4.預算大概抓120以內\n",
        "5.希望舒適度夠\n",
        "\n",
        "目前看過的\n",
        "Altis->頭頂空間太小剃除\n",
        "他在斗->中規中矩,外型喜歡空間也夠,但配備給得比較少\n",
        "skoda->目前octiva 四門今年似乎都沒了,要等年底或明年初的改款\n",
        "       有試乘kamiq,操縱性好,但車道置中不太明顯,然後冷氣不太涼\n",
        "focus->目前應該算最適合我的,配備操縱空間都很完美,但我覺得座椅舒適\n",
        "       舒適度試感受最不好的,比較硬而且太短腳的支撐性不好\n",
        "Altima->這台不會買,單純喜歡就試乘,基本上我覺得開起來感受度是最好的\n",
        "        馬力夠,Nissan的座椅舒適度真的沒話說,每個朋友都說舒適第一名\n",
        "        但就太大台不合我標準,但這個舒適度會讓我想看一下仙草\n",
        "\n",
        "接下來還預計去看馬3以及subaru ,以及等接下來改款的仙草還有Octiva\n",
        "然後就是在想要不要捏上去的IS 跟C300\n",
        "\n",
        "大家還有推薦什麼?或可以給我點意見的\n",
        "感謝!\n",
        "       \n",
        "'''"
      ],
      "execution_count": null,
      "outputs": []
    },
    {
      "cell_type": "code",
      "metadata": {
        "id": "BdxV2agn8fvr",
        "colab_type": "code",
        "colab": {
          "base_uri": "https://localhost:8080/",
          "height": 835
        },
        "outputId": "9dbf8d8d-e4bb-4193-9b5b-25c7432207b6"
      },
      "source": [
        "x = list(jieba.cut(input_word))\n",
        "y = loaded_model.predict([x])\n",
        "y[0]"
      ],
      "execution_count": null,
      "outputs": [
        {
          "output_type": "stream",
          "text": [
            "Building prefix dict from the default dictionary ...\n",
            "Dumping model to file cache /tmp/jieba.cache\n",
            "Loading model cost 0.878 seconds.\n",
            "Prefix dict has been built successfully.\n",
            "2020-09-11 11:42:25,335 [WARNING] kashgari - Sequence length is None, will use the max length of the samples, which is 366\n",
            "2020-09-11 11:42:25,341 [DEBUG] kashgari - predict input shape (1, 366) x: \n",
            "[[     2      1      1   1365  35277      1   1009   1384      1      1\n",
            "    1049      1      1      1      1      1    567      1      1      1\n",
            "       1      1      1      1      1      1      1      1      1    475\n",
            "       1      1      1      1      1      1  19871      1   1103      1\n",
            "    2743      1      1      1      1      1    276      1      1      1\n",
            "       1   1103  46051    440      1      1      1      1  13619      1\n",
            "       1      1      1   1954  12254      1  16743      1      1      1\n",
            "       1      1      1      1     19    857      1      1      1      1\n",
            "    2178     30      1      1      1      1      1      1    449      1\n",
            "    3806   1271      1      1      1    202      1      1    801   1408\n",
            "       1      1      1      1      1      1      1      1      1    174\n",
            "       1      1    119      1      1   7339      7   2743  60988      1\n",
            "       1      1      1      1      1  18238 267185      1     96     19\n",
            "       7   4275      1      1     10  16816      1      1      1      1\n",
            "    7684      1      1      1 270887      1    857    198    187      1\n",
            "       1      1      1      1      1    505      1      1      1     83\n",
            "       1      1      1      1      1      1      1      1  11630      1\n",
            "  168587      1      1      1      1   8773      1      1      1      1\n",
            "       1      1 168628      1    236      1      1      1      1      1\n",
            "       1    176      1      1      1     10  10614      7      1      1\n",
            "     927      1      1      1      1    102    229      1      1      1\n",
            "       1      1      1      1      1   1531      1    292      1    936\n",
            "       1      1      1      1      1  12794      1      1   3916    936\n",
            "       1   8909      1      1      1      1      1      1    760     19\n",
            "       1    109      1      1   5891      1   9145      1    292      1\n",
            "       1      1      1      1      1      1      1      1      1      1\n",
            "       1      1      1 132261      1    750      1    102   1531      1\n",
            "    3119      1      1    275      1      1      1    229   3569      1\n",
            "       1      1      1      1      1      1      1      1      1      1\n",
            "   11968   3944      1    342      1      1      1      1  11031      1\n",
            "       1      1      1      1      1   3850      1      1  20320  53387\n",
            "     829      1  21309      1      1   1846      1      1      1      1\n",
            "   20320      1     83      1   3850      1 170854      1      1      1\n",
            "       1      1      1      1      1    873      1     77      1      1\n",
            "    2708      1      1      1      1    163      1      1      1      1\n",
            "   29470    324      1      1      1      1      1      1      1      1\n",
            "       1      1      1      1      1      3]]\n",
            "2020-09-11 11:42:33,284 [DEBUG] kashgari - predict output shape (1, 59)\n",
            "2020-09-11 11:42:33,285 [DEBUG] kashgari - predict output argmax: [17]\n"
          ],
          "name": "stderr"
        },
        {
          "output_type": "execute_result",
          "data": {
            "application/vnd.google.colaboratory.intrinsic+json": {
              "type": "string"
            },
            "text/plain": [
              "'Honda_accord'"
            ]
          },
          "metadata": {
            "tags": []
          },
          "execution_count": 6
        }
      ]
    },
    {
      "cell_type": "code",
      "metadata": {
        "id": "9iFXTDs0-jeW",
        "colab_type": "code",
        "colab": {}
      },
      "source": [
        "del loaded_model"
      ],
      "execution_count": null,
      "outputs": []
    },
    {
      "cell_type": "code",
      "metadata": {
        "id": "CGv0oIAA_cyv",
        "colab_type": "code",
        "colab": {
          "base_uri": "https://localhost:8080/",
          "height": 69
        },
        "outputId": "89704e62-efbc-4199-de7f-d1bcda7e8646"
      },
      "source": [
        "!tensorboard --logdir tf_dir\n"
      ],
      "execution_count": null,
      "outputs": [
        {
          "output_type": "stream",
          "text": [
            "Serving TensorBoard on localhost; to expose to the network, use a proxy or pass --bind_all\n",
            "TensorBoard 2.3.0 at http://localhost:6006/ (Press CTRL+C to quit)\n",
            "^C\n"
          ],
          "name": "stdout"
        }
      ]
    }
  ]
}